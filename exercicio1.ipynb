{
  "nbformat": 4,
  "nbformat_minor": 0,
  "metadata": {
    "colab": {
      "provenance": [],
      "authorship_tag": "ABX9TyNH45GHfLy/j88r/vadXSyj",
      "include_colab_link": true
    },
    "kernelspec": {
      "name": "python3",
      "display_name": "Python 3"
    },
    "language_info": {
      "name": "python"
    }
  },
  "cells": [
    {
      "cell_type": "markdown",
      "metadata": {
        "id": "view-in-github",
        "colab_type": "text"
      },
      "source": [
        "<a href=\"https://colab.research.google.com/github/tunesvfc/bootcamp_ftl/blob/main/exercicio1.ipynb\" target=\"_parent\"><img src=\"https://colab.research.google.com/assets/colab-badge.svg\" alt=\"Open In Colab\"/></a>"
      ]
    },
    {
      "cell_type": "code",
      "execution_count": 1,
      "metadata": {
        "colab": {
          "base_uri": "https://localhost:8080/"
        },
        "id": "vQnx8LZjz_DT",
        "outputId": "1cf94d61-4d26-4a46-e074-cc8a90b4328a"
      },
      "outputs": [
        {
          "output_type": "stream",
          "name": "stdout",
          "text": [
            "[21, 45, 93, 24, 36, 12, 8]\n"
          ]
        }
      ],
      "source": [
        "lista1 = [10,21,4,45,66,93]\n",
        "lista2 = [13,43,24,36,12,8]\n",
        "\n",
        "lista3 = []\n",
        "\n",
        "for i in lista1:\n",
        "    if i % 2 != 0:\n",
        "        lista3.append(i)\n",
        "\n",
        "for i in lista2:\n",
        "    if i % 2 == 0:\n",
        "        lista3.append(i)\n",
        "\n",
        "print(lista3)"
      ]
    }
  ]
}