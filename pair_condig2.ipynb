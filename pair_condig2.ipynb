{
  "nbformat": 4,
  "nbformat_minor": 0,
  "metadata": {
    "colab": {
      "provenance": [],
      "authorship_tag": "ABX9TyPmttldbI+dDYUPS5SMeSsk",
      "include_colab_link": true
    },
    "kernelspec": {
      "name": "python3",
      "display_name": "Python 3"
    },
    "language_info": {
      "name": "python"
    }
  },
  "cells": [
    {
      "cell_type": "markdown",
      "metadata": {
        "id": "view-in-github",
        "colab_type": "text"
      },
      "source": [
        "<a href=\"https://colab.research.google.com/github/tunesvfc/bootcamp_ftl/blob/main/pair_condig2.ipynb\" target=\"_parent\"><img src=\"https://colab.research.google.com/assets/colab-badge.svg\" alt=\"Open In Colab\"/></a>"
      ]
    },
    {
      "cell_type": "code",
      "execution_count": null,
      "metadata": {
        "id": "bLAloATDsJ3P"
      },
      "outputs": [],
      "source": [
        "\"\"\"\n",
        "Crie uma classe chamada Circulo que represente um círculo.\n",
        "• Atributo: raio.\n",
        "• Métodos:\n",
        "o area(): retorna a área do círculo.\n",
        "§ Fórmula: π * raio²\n",
        "o perimetro(): retorna o perímetro do círculo.\n",
        "§ Fórmula: 2 * π * raio\n",
        "• Objetivo: praticar criação de classes, atributos e métodos.\n",
        "• Exemplo esperado:\n",
        "o c = Circulo(5)\n",
        "o print(c.area())      # Deve retornar 78.5 aprox.\n",
        "o print(c.perimetro()) # Deve retornar 31.4 aprox.\n",
        "\"\"\"\n",
        "class Circulo:\n",
        "    def __init__(self, raio):\n",
        "        self.raio = raio\n",
        "    def area(self):\n",
        "        return 3.14 * (self.raio ** 2)\n",
        "    def perimetro(self):\n",
        "        return 2 * 3.14 * self.raio\n",
        "\n",
        "\"\"\"\n",
        "Crie uma classe chamada Calculadora que execute operações matemáticas.\n",
        "• Métodos:\n",
        "o somar(a, b)\n",
        "o subtrair(a, b)\n",
        "o multiplicar(a, b)\n",
        "o dividir(a, b) (garantir que não divida por zero).\n",
        "• Objetivo: praticar encapsulamento de funções dentro de uma classe.\n",
        "• Exemplo esperado:\n",
        "o calc = Calculadora()\n",
        "o print(calc.somar(4, 3)) # 7\n",
        "o print(calc.dividir(10, 2)) # 5\n",
        "\"\"\"\n",
        "class Calculadora:\n",
        "    def somar(self, a, b):\n",
        "        return a + b\n",
        "    def subtrair(self, a, b):\n",
        "        return a - b\n",
        "    def multiplicar(self, a, b):\n",
        "        return a * b\n",
        "    def dividir(self, a, b):\n",
        "        if b != 0:\n",
        "            return a / b\n",
        "        else:\n",
        "            return \"O valor de b precisa ser diferente de zero.\"\n",
        "\n",
        "\"\"\"\n",
        "Crie uma classe chamada Pessoa.\n",
        "• Atributos:\n",
        "o nome\n",
        "o pais\n",
        "o data_nascimento (no formato AAAA-MM-DD)\n",
        "• Método:\n",
        "o calcular_idade(): retorna a idade atual da pessoa.\n",
        "• Objetivo: manipular datas e trabalhar com atributos de instância.\n",
        "• Exemplo esperado:\n",
        "o p = Pessoa(\"Maria\", \"Angola\", \"2000-05-20\")\n",
        "o print(p.calcular_idade())  # Deve retornar a idade correta\n",
        "\"\"\""
      ]
    },
    {
      "cell_type": "code",
      "source": [
        "from datetime import datetime\n",
        "class Pessoa:\n",
        "    def __init__(self, nome, pais, data_nascimento):\n",
        "        self.nome = nome\n",
        "        self.pais = pais\n",
        "        self.data_nascimento = data_nascimento\n",
        "    def calcular_idade(self):\n",
        "        data_atual = datetime.now()\n",
        "        data_nascimento = datetime.strptime(self.data_nascimento, \"%Y-%m-%d\")\n",
        "        idade = data_atual.year - data_nascimento.year\n",
        "        return idade\n",
        "pessoa1 = Pessoa(\"Antunes\", \"Angola\", \"1995-01-15\")\n",
        "print(pessoa1.calcular_idade())"
      ],
      "metadata": {
        "colab": {
          "base_uri": "https://localhost:8080/"
        },
        "id": "DP9oodJyup0r",
        "outputId": "50c83dc9-de03-4f27-9684-41c072f3cf71"
      },
      "execution_count": 1,
      "outputs": [
        {
          "output_type": "stream",
          "name": "stdout",
          "text": [
            "30\n"
          ]
        }
      ]
    },
    {
      "cell_type": "code",
      "source": [
        "\"\"\"\n",
        "II. Chamada de API com Python\n",
        "Exercício: Consulta de Clima\n",
        "Faça uma chamada de API para consultar informações meteorológicas.\n",
        "• Dados fornecidos:\n",
        "o api_key = \"010858a3a88847f1a4154131242207\"\n",
        "o url = \"http://api.weatherapi.com/v1/current.json\"\n",
        "Passos:\n",
        "1. Importar o módulo requests.\n",
        "2. Criar um dicionário chamado params com:\n",
        "o 'key' : api_key\n",
        "o 'q' : city_name (nome da cidade a pesquisar).\n",
        "3. Fazer uma solicitação HTTP:\n",
        "4. response = requests.get(url, params=params)\n",
        "5. Imprimir o conteúdo da resposta (response.json()).\n",
        "[Opcional]: Criar uma classe Weather para representar as informações recebidas\n",
        "(temperatura, condição, cidade).\n",
        "• Objetivo: aprender a consumir dados de APIs externas e trabalhar com JSON.\n",
        "\"\"\"\n",
        "import requests\n",
        "\n",
        "params = {'key': '010858a3a88847f1a4154131242207', 'q': 'Luanda'}\n",
        "url = \"http://api.weatherapi.com/v1/current.json\"\n",
        "response = requests.get(url, params=params)\n",
        "print(response.json())\n",
        "\n",
        "class Weather:\n",
        "    def __init__(self, temperatura, condicao, cidade):\n",
        "        self.temperatura = temperatura\n",
        "        self.condicao = condicao\n",
        "        self.cidade = cidade\n",
        "\n",
        "w = Weather(response.json()['current']['temp_c'], response.json()['current']['condition']['text'], response.json()['location']['name'])\n",
        "print(\"Temperatura: \", w.temperatura)\n",
        "print(\"Condição: \", w.condicao)\n",
        "print(\"Cidade: \", w.cidade)"
      ],
      "metadata": {
        "colab": {
          "base_uri": "https://localhost:8080/"
        },
        "id": "QItvmTRbvJic",
        "outputId": "b156bf39-53c6-45c2-c098-0ec50b2ee01b"
      },
      "execution_count": 18,
      "outputs": [
        {
          "output_type": "stream",
          "name": "stdout",
          "text": [
            "{'location': {'name': 'Luanda', 'region': 'Cuanza Norte', 'country': 'Angola', 'lat': -8.8383, 'lon': 13.2344, 'tz_id': 'Africa/Luanda', 'localtime_epoch': 1756320390, 'localtime': '2025-08-27 19:46'}, 'current': {'last_updated_epoch': 1756320300, 'last_updated': '2025-08-27 19:45', 'temp_c': 20.3, 'temp_f': 68.5, 'is_day': 0, 'condition': {'text': 'Clear', 'icon': '//cdn.weatherapi.com/weather/64x64/night/113.png', 'code': 1000}, 'wind_mph': 13.0, 'wind_kph': 20.9, 'wind_degree': 220, 'wind_dir': 'SW', 'pressure_mb': 1015.0, 'pressure_in': 29.98, 'precip_mm': 0.0, 'precip_in': 0.0, 'humidity': 88, 'cloud': 25, 'feelslike_c': 20.3, 'feelslike_f': 68.5, 'windchill_c': 20.3, 'windchill_f': 68.5, 'heatindex_c': 20.3, 'heatindex_f': 68.5, 'dewpoint_c': 18.2, 'dewpoint_f': 64.8, 'vis_km': 10.0, 'vis_miles': 6.0, 'uv': 0.0, 'gust_mph': 18.2, 'gust_kph': 29.3}}\n",
            "Temperatura:  20.3\n",
            "Condição:  Clear\n",
            "Cidade:  Luanda\n"
          ]
        }
      ]
    }
  ]
}