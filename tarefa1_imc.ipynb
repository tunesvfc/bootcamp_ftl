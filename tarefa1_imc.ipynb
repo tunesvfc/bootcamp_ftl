{
  "cells": [
    {
      "cell_type": "markdown",
      "metadata": {
        "id": "view-in-github",
        "colab_type": "text"
      },
      "source": [
        "<a href=\"https://colab.research.google.com/github/tunesvfc/bootcamp_ftl/blob/main/tarefa1_imc.ipynb\" target=\"_parent\"><img src=\"https://colab.research.google.com/assets/colab-badge.svg\" alt=\"Open In Colab\"/></a>"
      ]
    },
    {
      "cell_type": "code",
      "execution_count": null,
      "metadata": {
        "colab": {
          "base_uri": "https://localhost:8080/"
        },
        "id": "Ra9LultbUnXr",
        "outputId": "3d5661cb-4aee-47e2-a90a-1591bdf33f18"
      },
      "outputs": [
        {
          "output_type": "stream",
          "name": "stdout",
          "text": [
            "Insira o seu peso(Kg): 70\n",
            "Insira sua altura(m): 1.75\n",
            "Peso Normal, seu IMC é 22.86\n"
          ]
        }
      ],
      "source": [
        "peso = float(input(\"Insira o seu peso(Kg): \"))\n",
        "\n",
        "if peso <= 0:\n",
        "  print(\"Erro: O peso não pode ser menor ou igual a Zero. Insira Novamente: \")\n",
        "  peso = float(input(\"Insira o seu peso(Kg): \"))\n",
        "\n",
        "altura = float(input(\"Insira sua altura(m): \"))\n",
        "\n",
        "if altura <= 0:\n",
        "  print(\"Erro: A altura não pode ser menor ou igual a Zero. Insira Novamente: \")\n",
        "  altura = float(input(\"Insira sua altura(m): \"))\n",
        "\n",
        "imc = peso/altura**2\n",
        "if imc <= 18.5:\n",
        "  print(f\"Abaixo do peso, seu IMC é {imc:.2f}\")\n",
        "elif imc >= 18.5 and imc <= 24.9:\n",
        "  print(f\"Peso Normal, seu IMC é {imc:.2f}\")\n",
        "elif imc >= 25 and imc <= 29.9:\n",
        "  print(f\"Sobrepeso, seu IMC é {imc:.2f}\")\n",
        "else:\n",
        "  print(f\"Obesidade, seu IMC é {imc:.2f}\")"
      ]
    }
  ],
  "metadata": {
    "colab": {
      "provenance": [],
      "authorship_tag": "ABX9TyNDEBcr3FKP4iYR08q7THAs",
      "include_colab_link": true
    },
    "kernelspec": {
      "display_name": "Python 3",
      "name": "python3"
    },
    "language_info": {
      "name": "python"
    }
  },
  "nbformat": 4,
  "nbformat_minor": 0
}