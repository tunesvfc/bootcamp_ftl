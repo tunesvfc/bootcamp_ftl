{
  "cells": [
    {
      "cell_type": "markdown",
      "metadata": {
        "id": "view-in-github",
        "colab_type": "text"
      },
      "source": [
        "<a href=\"https://colab.research.google.com/github/tunesvfc/bootcamp_ftl/blob/main/tarefa2.ipynb\" target=\"_parent\"><img src=\"https://colab.research.google.com/assets/colab-badge.svg\" alt=\"Open In Colab\"/></a>"
      ]
    },
    {
      "cell_type": "code",
      "source": [
        "import random\n",
        "tentativas = 3\n",
        "linhas = int(input(\"Informe a quantidade de linhas: \"))\n",
        "colunas = int(input(\"Informe a quantidade de colunas: \"))\n",
        "\n",
        "def criar_campo(linhas, colunas):\n",
        "  campo = []\n",
        "  for _ in range(linhas):\n",
        "    linha = ['O'] * colunas\n",
        "    campo.append(linha)\n",
        "  return campo\n",
        "\n",
        "campo = criar_campo(linhas, colunas)\n",
        "def esconder_tesouro(campo, linhas, colunas):\n",
        "  linha = random.randint(0, linhas - 1)\n",
        "  coluna = random.randint(0, colunas - 1)\n",
        "  campo[linha][coluna] = 'T'\n",
        "  return campo\n",
        "\n",
        "def mostrar_campo(campo):\n",
        "  linhas = len(campo)\n",
        "  colunas = len(campo)\n",
        "  separador = \"+---\" * colunas + \"+\"\n",
        "  for i, linha in enumerate(campo):\n",
        "    print(separador)\n",
        "    print(\"| \" + \" | \".join(f\"{elemento}\" for elemento in linha) + \" |\")\n",
        "  print(separador)\n",
        "\n",
        "while tentativas > 0:\n",
        "  campo = esconder_tesouro(campo, linhas, colunas)\n",
        "  print(\"INFORME AS COORDENADAS DA POSIÇÃO ONDE PODE ESTAR ESCONDIDO O TESOURO\")\n",
        "  num_linha = int(input(f\"Informe o número da linha (de 1 à {linhas}): \"))\n",
        "  num_coluna = int(input(f\"Informe o número da coluna (de 1 à {colunas}): \"))\n",
        "  if campo[num_linha-1][num_coluna-1] == 'X':\n",
        "    print(\"PARABÉNS VOCÊ ENCONTROU O TESOURO\")\n",
        "    mostrar_campo(campo)\n",
        "    break\n",
        "  else:\n",
        "    tentativas -= 1\n",
        "    print(f\"VOCÊ ERROU, TENTE NOVAMENTE ({tentativas})!\")\n",
        "\n",
        "\n"
      ],
      "metadata": {
        "colab": {
          "base_uri": "https://localhost:8080/"
        },
        "id": "jK86OKqeK3xD",
        "outputId": "893c21b5-1c63-4bec-9036-0f7d997115c1"
      },
      "execution_count": 10,
      "outputs": [
        {
          "output_type": "stream",
          "name": "stdout",
          "text": [
            "Informe a quantidade de linhas: 14\n",
            "Informe a quantidade de colunas: 14\n",
            "INFORME AS COORDENADAS DA POSIÇÃO ONDE PODE ESTAR ESCONDIDO O TESOURO\n",
            "Informe o número da linha (de 1 à 14): 12\n",
            "Informe o número da coluna (de 1 à 14): 1\n",
            "VOCÊ ERROU, TENTE NOVAMENTE (2)!\n",
            "INFORME AS COORDENADAS DA POSIÇÃO ONDE PODE ESTAR ESCONDIDO O TESOURO\n",
            "Informe o número da linha (de 1 à 14): 2\n",
            "Informe o número da coluna (de 1 à 14): 11\n",
            "VOCÊ ERROU, TENTE NOVAMENTE (1)!\n",
            "INFORME AS COORDENADAS DA POSIÇÃO ONDE PODE ESTAR ESCONDIDO O TESOURO\n",
            "Informe o número da linha (de 1 à 14): 1\n",
            "Informe o número da coluna (de 1 à 14): 2\n",
            "VOCÊ ERROU, TENTE NOVAMENTE (0)!\n"
          ]
        }
      ]
    }
  ],
  "metadata": {
    "colab": {
      "provenance": [],
      "authorship_tag": "ABX9TyNtzIY6QBEv093nw/J4aTzA",
      "include_colab_link": true
    },
    "kernelspec": {
      "display_name": "Python 3",
      "name": "python3"
    },
    "language_info": {
      "name": "python"
    }
  },
  "nbformat": 4,
  "nbformat_minor": 0
}