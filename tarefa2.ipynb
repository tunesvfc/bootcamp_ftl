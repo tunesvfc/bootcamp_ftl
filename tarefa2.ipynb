{
  "cells": [
    {
      "cell_type": "markdown",
      "metadata": {
        "id": "view-in-github",
        "colab_type": "text"
      },
      "source": [
        "<a href=\"https://colab.research.google.com/github/tunesvfc/bootcamp_ftl/blob/main/tarefa2.ipynb\" target=\"_parent\"><img src=\"https://colab.research.google.com/assets/colab-badge.svg\" alt=\"Open In Colab\"/></a>"
      ]
    },
    {
      "cell_type": "code",
      "source": [
        "import random\n",
        "\n",
        "linhas = int(input(\"Informe a quantidade de linhas: \"))\n",
        "colunas = int(input(\"Informe a quantidade de colunas: \"))\n",
        "\n",
        "campo = []\n",
        "for _ in range(linhas):\n",
        "  linha = ['O']*colunas\n",
        "  campo.append(linha)\n",
        "\n",
        "\n",
        "print(\"INFORME AS COORDENADAS DA POSIÇÃO ONDE PRETENDE ESCONDER O TESOURO\")\n",
        "num_linha = int(input(f\"Informe o número da linha (de 1 à {linhas}): \"))\n",
        "num_coluna = int(input(f\"Informe o número da coluna (de 1 à {colunas}): \"))\n",
        "campo[num_linha-1][num_coluna-1] = 'A'\n",
        "\n",
        "linhas = len(campo)\n",
        "colunas = len(campo)\n",
        "separador = \"+---\" * colunas + \"+\"\n",
        "for i, linha in enumerate(campo):\n",
        "  print(separador)\n",
        "  print(\"| \" + \" | \".join(f\"{elemento}\" for elemento in linha) + \" |\")\n",
        "print(separador)\n"
      ],
      "metadata": {
        "colab": {
          "base_uri": "https://localhost:8080/"
        },
        "id": "jK86OKqeK3xD",
        "outputId": "436313ae-7c42-4320-ac1a-64d9f01c612b"
      },
      "execution_count": null,
      "outputs": [
        {
          "output_type": "stream",
          "name": "stdout",
          "text": [
            "INFORME AS COORDENADAS DA POSIÇÃO ONDE PRETENDE ESCONDER O TESOURO\n",
            "Informe o número da linha (de 1 à 4): 1\n",
            "Informe o número da coluna (de 1 à 4): 4\n",
            "+---+---+---+---+\n",
            "| O | O | O | A |\n",
            "+---+---+---+---+\n",
            "| O | O | O | O |\n",
            "+---+---+---+---+\n",
            "| O | O | O | O |\n",
            "+---+---+---+---+\n",
            "| O | O | O | O |\n",
            "+---+---+---+---+\n"
          ]
        }
      ]
    }
  ],
  "metadata": {
    "colab": {
      "provenance": [],
      "authorship_tag": "ABX9TyM+mHUCiI7I9yxe07RLc3tc",
      "include_colab_link": true
    },
    "kernelspec": {
      "display_name": "Python 3",
      "name": "python3"
    },
    "language_info": {
      "name": "python"
    }
  },
  "nbformat": 4,
  "nbformat_minor": 0
}