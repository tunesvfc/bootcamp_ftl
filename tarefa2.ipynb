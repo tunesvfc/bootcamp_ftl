{
  "cells": [
    {
      "cell_type": "markdown",
      "metadata": {
        "id": "view-in-github",
        "colab_type": "text"
      },
      "source": [
        "<a href=\"https://colab.research.google.com/github/tunesvfc/bootcamp_ftl/blob/main/tarefa2.ipynb\" target=\"_parent\"><img src=\"https://colab.research.google.com/assets/colab-badge.svg\" alt=\"Open In Colab\"/></a>"
      ]
    },
    {
      "cell_type": "code",
      "source": [
        "import random\n",
        "tentativas = 3\n",
        "linhas = int(input(\"Informe a quantidade de linhas: \"))\n",
        "colunas = int(input(\"Informe a quantidade de colunas: \"))\n",
        "\n",
        "def criar_campo(linhas, colunas):\n",
        "  campo = []\n",
        "  for _ in range(linhas):\n",
        "    linha = ['O'] * colunas\n",
        "    campo.append(linha)\n",
        "  return campo\n",
        "\n",
        "campo = criar_campo(linhas, colunas)\n",
        "def esconder_tesouro(campo, linhas, colunas):\n",
        "  linha = random.randint(0, linhas - 1)\n",
        "  coluna = random.randint(0, colunas - 1)\n",
        "  campo[linha][coluna] = 'T'\n",
        "  return campo\n",
        "\n",
        "def mostrar_campo(campo):\n",
        "  linhas = len(campo)\n",
        "  colunas = len(campo)\n",
        "  separador = \"+---\" * colunas + \"+\"\n",
        "  for i, linha in enumerate(campo):\n",
        "    print(separador)\n",
        "    print(\"| \" + \" | \".join(f\"{elemento}\" for elemento in linha) + \" |\")\n",
        "  print(separador)\n",
        "\n",
        "while tentativas > 0:\n",
        "  campo = esconder_tesouro(campo, linhas, colunas)\n",
        "  mostrar_campo(campo)\n",
        "  print(\"INFORME AS COORDENADAS DA POSIÇÃO ONDE PODE ESTAR ESCONDIDO O TESOURO\")\n",
        "  num_linha = int(input(f\"Informe o número da linha (de 1 à {linhas}): \"))\n",
        "  num_coluna = int(input(f\"Informe o número da coluna (de 1 à {colunas}): \"))\n",
        "  if campo[num_linha-1][num_coluna-1] == 'X':\n",
        "    print(\"PARABÉNS VOCÊ ENCONTROU O TESOURO\")\n",
        "    break\n",
        "  else:\n",
        "    tentativas -= 1\n",
        "    print(f\"VOCÊ ERROU, TENTE NOVAMENTE ({tentativas})!\")\n",
        "\n",
        "\n"
      ],
      "metadata": {
        "colab": {
          "base_uri": "https://localhost:8080/",
          "height": 842
        },
        "id": "jK86OKqeK3xD",
        "outputId": "ef788b5f-8194-4540-fbd5-4b5d8fcdb103"
      },
      "execution_count": 9,
      "outputs": [
        {
          "output_type": "stream",
          "name": "stdout",
          "text": [
            "Informe a quantidade de linhas: 12\n",
            "Informe a quantidade de colunas: 12\n",
            "+---+---+---+---+---+---+---+---+---+---+---+---+\n",
            "| O | O | O | O | O | O | O | O | O | O | O | O |\n",
            "+---+---+---+---+---+---+---+---+---+---+---+---+\n",
            "| O | O | O | O | O | O | O | O | O | O | O | O |\n",
            "+---+---+---+---+---+---+---+---+---+---+---+---+\n",
            "| X | O | O | O | O | O | O | O | O | O | O | O |\n",
            "+---+---+---+---+---+---+---+---+---+---+---+---+\n",
            "| O | O | O | O | O | O | O | O | O | O | O | O |\n",
            "+---+---+---+---+---+---+---+---+---+---+---+---+\n",
            "| O | O | O | O | O | O | O | O | O | O | O | O |\n",
            "+---+---+---+---+---+---+---+---+---+---+---+---+\n",
            "| O | O | O | O | O | O | O | O | O | O | O | O |\n",
            "+---+---+---+---+---+---+---+---+---+---+---+---+\n",
            "| O | O | O | O | O | O | O | O | O | O | O | O |\n",
            "+---+---+---+---+---+---+---+---+---+---+---+---+\n",
            "| O | O | O | O | O | O | O | O | O | O | O | O |\n",
            "+---+---+---+---+---+---+---+---+---+---+---+---+\n",
            "| O | O | O | O | O | O | O | O | O | O | O | O |\n",
            "+---+---+---+---+---+---+---+---+---+---+---+---+\n",
            "| O | O | O | O | O | O | O | O | O | O | O | O |\n",
            "+---+---+---+---+---+---+---+---+---+---+---+---+\n",
            "| O | O | O | O | O | O | O | O | O | O | O | O |\n",
            "+---+---+---+---+---+---+---+---+---+---+---+---+\n",
            "| O | O | O | O | O | O | O | O | O | O | O | O |\n",
            "+---+---+---+---+---+---+---+---+---+---+---+---+\n",
            "INFORME AS COORDENADAS DA POSIÇÃO ONDE PODE ESTAR ESCONDIDO O TESOURO\n"
          ]
        },
        {
          "output_type": "error",
          "ename": "KeyboardInterrupt",
          "evalue": "Interrupted by user",
          "traceback": [
            "\u001b[0;31m---------------------------------------------------------------------------\u001b[0m",
            "\u001b[0;31mKeyboardInterrupt\u001b[0m                         Traceback (most recent call last)",
            "\u001b[0;32m/tmp/ipython-input-1767267898.py\u001b[0m in \u001b[0;36m<cell line: 0>\u001b[0;34m()\u001b[0m\n\u001b[1;32m     31\u001b[0m   \u001b[0mmostrar_campo\u001b[0m\u001b[0;34m(\u001b[0m\u001b[0mcampo\u001b[0m\u001b[0;34m)\u001b[0m\u001b[0;34m\u001b[0m\u001b[0;34m\u001b[0m\u001b[0m\n\u001b[1;32m     32\u001b[0m   \u001b[0mprint\u001b[0m\u001b[0;34m(\u001b[0m\u001b[0;34m\"INFORME AS COORDENADAS DA POSIÇÃO ONDE PODE ESTAR ESCONDIDO O TESOURO\"\u001b[0m\u001b[0;34m)\u001b[0m\u001b[0;34m\u001b[0m\u001b[0;34m\u001b[0m\u001b[0m\n\u001b[0;32m---> 33\u001b[0;31m   \u001b[0mnum_linha\u001b[0m \u001b[0;34m=\u001b[0m \u001b[0mint\u001b[0m\u001b[0;34m(\u001b[0m\u001b[0minput\u001b[0m\u001b[0;34m(\u001b[0m\u001b[0;34mf\"Informe o número da linha (de 1 à {linhas}): \"\u001b[0m\u001b[0;34m)\u001b[0m\u001b[0;34m)\u001b[0m\u001b[0;34m\u001b[0m\u001b[0;34m\u001b[0m\u001b[0m\n\u001b[0m\u001b[1;32m     34\u001b[0m   \u001b[0mnum_coluna\u001b[0m \u001b[0;34m=\u001b[0m \u001b[0mint\u001b[0m\u001b[0;34m(\u001b[0m\u001b[0minput\u001b[0m\u001b[0;34m(\u001b[0m\u001b[0;34mf\"Informe o número da coluna (de 1 à {colunas}): \"\u001b[0m\u001b[0;34m)\u001b[0m\u001b[0;34m)\u001b[0m\u001b[0;34m\u001b[0m\u001b[0;34m\u001b[0m\u001b[0m\n\u001b[1;32m     35\u001b[0m   \u001b[0;32mif\u001b[0m \u001b[0mcampo\u001b[0m\u001b[0;34m[\u001b[0m\u001b[0mnum_linha\u001b[0m\u001b[0;34m-\u001b[0m\u001b[0;36m1\u001b[0m\u001b[0;34m]\u001b[0m\u001b[0;34m[\u001b[0m\u001b[0mnum_coluna\u001b[0m\u001b[0;34m-\u001b[0m\u001b[0;36m1\u001b[0m\u001b[0;34m]\u001b[0m \u001b[0;34m==\u001b[0m \u001b[0;34m'X'\u001b[0m\u001b[0;34m:\u001b[0m\u001b[0;34m\u001b[0m\u001b[0;34m\u001b[0m\u001b[0m\n",
            "\u001b[0;32m/usr/local/lib/python3.12/dist-packages/ipykernel/kernelbase.py\u001b[0m in \u001b[0;36mraw_input\u001b[0;34m(self, prompt)\u001b[0m\n\u001b[1;32m   1175\u001b[0m                 \u001b[0;34m\"raw_input was called, but this frontend does not support input requests.\"\u001b[0m\u001b[0;34m\u001b[0m\u001b[0;34m\u001b[0m\u001b[0m\n\u001b[1;32m   1176\u001b[0m             )\n\u001b[0;32m-> 1177\u001b[0;31m         return self._input_request(\n\u001b[0m\u001b[1;32m   1178\u001b[0m             \u001b[0mstr\u001b[0m\u001b[0;34m(\u001b[0m\u001b[0mprompt\u001b[0m\u001b[0;34m)\u001b[0m\u001b[0;34m,\u001b[0m\u001b[0;34m\u001b[0m\u001b[0;34m\u001b[0m\u001b[0m\n\u001b[1;32m   1179\u001b[0m             \u001b[0mself\u001b[0m\u001b[0;34m.\u001b[0m\u001b[0m_parent_ident\u001b[0m\u001b[0;34m[\u001b[0m\u001b[0;34m\"shell\"\u001b[0m\u001b[0;34m]\u001b[0m\u001b[0;34m,\u001b[0m\u001b[0;34m\u001b[0m\u001b[0;34m\u001b[0m\u001b[0m\n",
            "\u001b[0;32m/usr/local/lib/python3.12/dist-packages/ipykernel/kernelbase.py\u001b[0m in \u001b[0;36m_input_request\u001b[0;34m(self, prompt, ident, parent, password)\u001b[0m\n\u001b[1;32m   1217\u001b[0m             \u001b[0;32mexcept\u001b[0m \u001b[0mKeyboardInterrupt\u001b[0m\u001b[0;34m:\u001b[0m\u001b[0;34m\u001b[0m\u001b[0;34m\u001b[0m\u001b[0m\n\u001b[1;32m   1218\u001b[0m                 \u001b[0;31m# re-raise KeyboardInterrupt, to truncate traceback\u001b[0m\u001b[0;34m\u001b[0m\u001b[0;34m\u001b[0m\u001b[0m\n\u001b[0;32m-> 1219\u001b[0;31m                 \u001b[0;32mraise\u001b[0m \u001b[0mKeyboardInterrupt\u001b[0m\u001b[0;34m(\u001b[0m\u001b[0;34m\"Interrupted by user\"\u001b[0m\u001b[0;34m)\u001b[0m \u001b[0;32mfrom\u001b[0m \u001b[0;32mNone\u001b[0m\u001b[0;34m\u001b[0m\u001b[0;34m\u001b[0m\u001b[0m\n\u001b[0m\u001b[1;32m   1220\u001b[0m             \u001b[0;32mexcept\u001b[0m \u001b[0mException\u001b[0m\u001b[0;34m:\u001b[0m\u001b[0;34m\u001b[0m\u001b[0;34m\u001b[0m\u001b[0m\n\u001b[1;32m   1221\u001b[0m                 \u001b[0mself\u001b[0m\u001b[0;34m.\u001b[0m\u001b[0mlog\u001b[0m\u001b[0;34m.\u001b[0m\u001b[0mwarning\u001b[0m\u001b[0;34m(\u001b[0m\u001b[0;34m\"Invalid Message:\"\u001b[0m\u001b[0;34m,\u001b[0m \u001b[0mexc_info\u001b[0m\u001b[0;34m=\u001b[0m\u001b[0;32mTrue\u001b[0m\u001b[0;34m)\u001b[0m\u001b[0;34m\u001b[0m\u001b[0;34m\u001b[0m\u001b[0m\n",
            "\u001b[0;31mKeyboardInterrupt\u001b[0m: Interrupted by user"
          ]
        }
      ]
    }
  ],
  "metadata": {
    "colab": {
      "provenance": [],
      "authorship_tag": "ABX9TyNgVEJRp91p4hbvfZTj6h5v",
      "include_colab_link": true
    },
    "kernelspec": {
      "display_name": "Python 3",
      "name": "python3"
    },
    "language_info": {
      "name": "python"
    }
  },
  "nbformat": 4,
  "nbformat_minor": 0
}