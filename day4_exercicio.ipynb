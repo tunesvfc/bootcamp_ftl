{
  "nbformat": 4,
  "nbformat_minor": 0,
  "metadata": {
    "colab": {
      "provenance": [],
      "authorship_tag": "ABX9TyOpVTYMnHhCJdDXvl+viRjZ",
      "include_colab_link": true
    },
    "kernelspec": {
      "name": "python3",
      "display_name": "Python 3"
    },
    "language_info": {
      "name": "python"
    }
  },
  "cells": [
    {
      "cell_type": "markdown",
      "metadata": {
        "id": "view-in-github",
        "colab_type": "text"
      },
      "source": [
        "<a href=\"https://colab.research.google.com/github/tunesvfc/bootcamp_ftl/blob/main/day4_exercicio.ipynb\" target=\"_parent\"><img src=\"https://colab.research.google.com/assets/colab-badge.svg\" alt=\"Open In Colab\"/></a>"
      ]
    },
    {
      "cell_type": "code",
      "execution_count": 1,
      "metadata": {
        "colab": {
          "base_uri": "https://localhost:8080/"
        },
        "id": "vQnx8LZjz_DT",
        "outputId": "1cf94d61-4d26-4a46-e074-cc8a90b4328a"
      },
      "outputs": [
        {
          "output_type": "stream",
          "name": "stdout",
          "text": [
            "[21, 45, 93, 24, 36, 12, 8]\n"
          ]
        }
      ],
      "source": [
        "\"\"\"\n",
        "Exercício 1:\n",
        "Dadas duas listas de números, crie uma nova lista que contenha:\n",
        "• apenas os números ímpares da primeira lista\n",
        "• e os números pares da segunda lista.\n",
        "Exemplo:\n",
        "lista1 = [10, 21, 4, 45, 66, 93]\n",
        "lista2 = [13, 43, 24, 36, 12, 8]\n",
        "Saída esperada:\n",
        "[21, 45, 93, 24, 36, 12, 8]\n",
        "\"\"\"\n",
        "lista1 = [10,21,4,45,66,93]\n",
        "lista2 = [13,43,24,36,12,8]\n",
        "\n",
        "lista3 = []\n",
        "\n",
        "for i in lista1:\n",
        "    if i % 2 != 0:\n",
        "        lista3.append(i)\n",
        "\n",
        "for i in lista2:\n",
        "    if i % 2 == 0:\n",
        "        lista3.append(i)\n",
        "\n",
        "print(lista3)"
      ]
    },
    {
      "cell_type": "code",
      "source": [
        "\"\"\"\n",
        "Exercício 2:\n",
        "Escreva um programa para contar o número total de dígitos em um número, utilizando um\n",
        "loop while.\n",
        "Exemplo:\n",
        "Número: 75869\n",
        "Saída: 5\n",
        "\"\"\"\n",
        "num = 75869\n",
        "count = 0\n",
        "while num != 0:\n",
        "    num = num // 10\n",
        "    count = count + 1\n",
        "print(\"Qdade de dígitos é:\", count)"
      ],
      "metadata": {
        "colab": {
          "base_uri": "https://localhost:8080/"
        },
        "id": "k2Xk4ehI3IxF",
        "outputId": "25935745-5fd1-4abd-d678-003a9558d787"
      },
      "execution_count": 2,
      "outputs": [
        {
          "output_type": "stream",
          "name": "stdout",
          "text": [
            "Total de dígitos é: 5\n"
          ]
        }
      ]
    },
    {
      "cell_type": "code",
      "source": [
        "\"\"\"\n",
        "Exercício 3:\n",
        "Crie uma função que receba dois inteiros.\n",
        "• Se o produto deles for menor ou igual a 1000, retorne o produto.\n",
        "• Caso contrário, retorne a soma.\n",
        "Exemplo:\n",
        "Entrada: 20, 30 → Saída: 600\n",
        "Entrada: 40, 30 → Saída: 70\n",
        "\"\"\"\n",
        "\n",
        "def soma_ou_produto(num1, num2):\n",
        "    produto = num1 * num2\n",
        "    if produto <= 1000:\n",
        "        return produto\n",
        "    else:\n",
        "        return num1 + num2\n",
        "print(soma_ou_produto(20,30))\n",
        "print(soma_ou_produto(40,30))"
      ],
      "metadata": {
        "colab": {
          "base_uri": "https://localhost:8080/"
        },
        "id": "4RdtgRye4L4N",
        "outputId": "f81957f0-5785-4685-e31a-3f0645247fa0"
      },
      "execution_count": 3,
      "outputs": [
        {
          "output_type": "stream",
          "name": "stdout",
          "text": [
            "600\n",
            "70\n"
          ]
        }
      ]
    },
    {
      "cell_type": "code",
      "source": [
        "\"\"\"\n",
        "Dada uma lista, remova todas as ocorrências do número 20.\n",
        "Exemplo:\n",
        "Entrada: [5, 20, 15, 20, 25, 50, 20]\n",
        "Saída: [5, 15, 25, 50]\n",
        "\"\"\"\n",
        "lista = [5,20,15,20,25,50,20]\n",
        "while 20 in lista:\n",
        "    lista.remove(20)\n",
        "print(lista)"
      ],
      "metadata": {
        "id": "of0fsgVp4vXu"
      },
      "execution_count": null,
      "outputs": []
    },
    {
      "cell_type": "code",
      "source": [
        "\"\"\"\n",
        "Exercício 5:\n",
        "Dada a seguinte tupla:\n",
        "tupla = (11, 22, 33, 44, 55, 66)\n",
        "Crie uma nova tupla apenas com os elementos 44 e 55.\n",
        "Saída esperada:\n",
        "(44, 55)\n",
        "\"\"\"\n",
        "\n",
        "tupla = (11,22,33,44,55,66)\n",
        "#nova_tupla = (tupla[3],tupla[4])\n",
        "nova_tupla = tupla[3:5]\n",
        "print(nova_tupla)"
      ],
      "metadata": {
        "colab": {
          "base_uri": "https://localhost:8080/"
        },
        "id": "u76NPiEM5CPi",
        "outputId": "829a9092-01ed-4202-db7d-eaeb8e92277c"
      },
      "execution_count": 4,
      "outputs": [
        {
          "output_type": "stream",
          "name": "stdout",
          "text": [
            "(44, 55)\n"
          ]
        }
      ]
    },
    {
      "cell_type": "code",
      "source": [
        "\"\"\"\n",
        "Exercício 6:\n",
        "Dado o dicionário:\n",
        "sample_dict = {\n",
        "\"nome\": \"Kelly\",\n",
        "\"idade\": 25,\n",
        "\"salário\": 8000,\n",
        "\"cidade\": \"Nova York\"\n",
        "}\n",
        "Crie um novo dicionário apenas com as chaves \"nome\" e \"salário\".\n",
        "Saída esperada:\n",
        "{'nome': 'Kelly', 'salário': 8000}\n",
        "\"\"\"\n",
        "dicionario = {\n",
        "    \"nome\": \"Kelly\",\n",
        "    \"salário\": 8000,\n",
        "}\n",
        "print(dicionario)"
      ],
      "metadata": {
        "colab": {
          "base_uri": "https://localhost:8080/"
        },
        "id": "OKTJKGPj5mos",
        "outputId": "9a373d68-c17c-4983-cf89-11762f74eb9d"
      },
      "execution_count": 5,
      "outputs": [
        {
          "output_type": "stream",
          "name": "stdout",
          "text": [
            "{'nome': 'Kelly', 'salário': 8000}\n"
          ]
        }
      ]
    }
  ]
}